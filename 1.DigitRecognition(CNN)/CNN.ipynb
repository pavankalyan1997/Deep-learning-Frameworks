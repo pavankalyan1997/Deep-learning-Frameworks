{
  "nbformat": 4,
  "nbformat_minor": 0,
  "metadata": {
    "colab": {
      "name": "CNN.ipynb",
      "version": "0.3.2",
      "provenance": [],
      "collapsed_sections": []
    },
    "kernelspec": {
      "name": "python3",
      "display_name": "Python 3"
    },
    "accelerator": "GPU"
  },
  "cells": [
    {
      "metadata": {
        "id": "FNPocvluyPiO",
        "colab_type": "code",
        "colab": {}
      },
      "cell_type": "code",
      "source": [
        "import math\n",
        "import numpy as np\n",
        "import h5py\n",
        "import matplotlib.pyplot as plt\n",
        "import scipy\n",
        "import random\n",
        "import warnings\n",
        "warnings.filterwarnings(\"ignore\")"
      ],
      "execution_count": 0,
      "outputs": []
    },
    {
      "metadata": {
        "id": "4m_fyKuJyrBp",
        "colab_type": "code",
        "colab": {}
      },
      "cell_type": "code",
      "source": [
        "from PIL import Image\n",
        "from scipy import ndimage\n",
        "import tensorflow as tf\n",
        "from tensorflow.python.framework import ops"
      ],
      "execution_count": 0,
      "outputs": []
    },
    {
      "metadata": {
        "id": "0LRUCijByt8a",
        "colab_type": "code",
        "colab": {}
      },
      "cell_type": "code",
      "source": [
        "%matplotlib inline\n",
        "np.random.seed(1)"
      ],
      "execution_count": 0,
      "outputs": []
    },
    {
      "metadata": {
        "id": "SDf0yV9wyzE-",
        "colab_type": "code",
        "colab": {}
      },
      "cell_type": "code",
      "source": [
        "#load data set from sklearn.datasets\n",
        "from sklearn.datasets import load_digits"
      ],
      "execution_count": 0,
      "outputs": []
    },
    {
      "metadata": {
        "id": "7CdiCpMWzD3e",
        "colab_type": "code",
        "colab": {}
      },
      "cell_type": "code",
      "source": [
        "digits=load_digits()"
      ],
      "execution_count": 0,
      "outputs": []
    },
    {
      "metadata": {
        "id": "yRwLsk_GzFlH",
        "colab_type": "code",
        "colab": {
          "base_uri": "https://localhost:8080/",
          "height": 283
        },
        "outputId": "270e8821-8dbd-4639-eaff-be06607bb948"
      },
      "cell_type": "code",
      "source": [
        "plt.imshow(digits.images[0])"
      ],
      "execution_count": 6,
      "outputs": [
        {
          "output_type": "execute_result",
          "data": {
            "text/plain": [
              "<matplotlib.image.AxesImage at 0x7f92ced03b00>"
            ]
          },
          "metadata": {
            "tags": []
          },
          "execution_count": 6
        },
        {
          "output_type": "display_data",
          "data": {
            "image/png": "[encoded data removed]",
            "text/plain": [
              "<Figure size 432x288 with 1 Axes>"
            ]
          },
          "metadata": {
            "tags": []
          }
        }
      ]
    },
    {
      "metadata": {
        "id": "5OOWlE6ozHUA",
        "colab_type": "code",
        "colab": {
          "base_uri": "https://localhost:8080/",
          "height": 303
        },
        "outputId": "19dacfb0-0dec-4d77-ceaa-95c0ea781b4a"
      },
      "cell_type": "code",
      "source": [
        "images_and_labels=list(zip(digits.images,digits.target))\n",
        "plt.figure(figsize=(5,5))\n",
        "for index,(image,label) in enumerate(images_and_labels[:15]):\n",
        "    plt.subplot(3,5,index+1)\n",
        "    plt.axis('off')\n",
        "    plt.imshow(image,cmap=plt.cm.gray_r,interpolation='nearest')\n",
        "    plt.title('%i' % label)"
      ],
      "execution_count": 7,
      "outputs": [
        {
          "output_type": "display_data",
          "data": {
            "image/png": "[encoded data removed]",
            "text/plain": [
              "<Figure size 360x360 with 15 Axes>"
            ]
          },
          "metadata": {
            "tags": []
          }
        }
      ]
    },
    {
      "metadata": {
        "id": "6rn20eb0zLAT",
        "colab_type": "code",
        "colab": {}
      },
      "cell_type": "code",
      "source": [
        "X=digits.images\n",
        "y=digits.target"
      ],
      "execution_count": 0,
      "outputs": []
    },
    {
      "metadata": {
        "id": "o4syTYH47RQh",
        "colab_type": "code",
        "colab": {}
      },
      "cell_type": "code",
      "source": [
        "X=X.reshape(X.shape[0],X.shape[1],X.shape[2],1)"
      ],
      "execution_count": 0,
      "outputs": []
    },
    {
      "metadata": {
        "id": "cG6zI9lwzOzG",
        "colab_type": "code",
        "colab": {
          "base_uri": "https://localhost:8080/",
          "height": 35
        },
        "outputId": "4cb135f7-514e-4a9f-e121-6923146b1565"
      },
      "cell_type": "code",
      "source": [
        "print(X.shape)"
      ],
      "execution_count": 10,
      "outputs": [
        {
          "output_type": "stream",
          "text": [
            "(1797, 8, 8, 1)\n"
          ],
          "name": "stdout"
        }
      ]
    },
    {
      "metadata": {
        "id": "fVYCUbOFzQic",
        "colab_type": "code",
        "colab": {
          "base_uri": "https://localhost:8080/",
          "height": 35
        },
        "outputId": "4f3f85ca-b5b8-487f-bb96-aca3b6af022e"
      },
      "cell_type": "code",
      "source": [
        "print(y.shape)"
      ],
      "execution_count": 11,
      "outputs": [
        {
          "output_type": "stream",
          "text": [
            "(1797,)\n"
          ],
          "name": "stdout"
        }
      ]
    },
    {
      "metadata": {
        "id": "GWDSFjtszS2r",
        "colab_type": "code",
        "colab": {}
      },
      "cell_type": "code",
      "source": [
        "X=X/255"
      ],
      "execution_count": 0,
      "outputs": []
    },
    {
      "metadata": {
        "id": "aipz3SWEzVus",
        "colab_type": "code",
        "colab": {
          "base_uri": "https://localhost:8080/",
          "height": 1248
        },
        "outputId": "bf26dbdb-be02-46e7-97ea-53e8af5962fc"
      },
      "cell_type": "code",
      "source": [
        "X[0]"
      ],
      "execution_count": 13,
      "outputs": [
        {
          "output_type": "execute_result",
          "data": {
            "text/plain": [
              "array([[[0.        ],\n",
              "        [0.        ],\n",
              "        [0.01960784],\n",
              "        [0.05098039],\n",
              "        [0.03529412],\n",
              "        [0.00392157],\n",
              "        [0.        ],\n",
              "        [0.        ]],\n",
              "\n",
              "       [[0.        ],\n",
              "        [0.        ],\n",
              "        [0.05098039],\n",
              "        [0.05882353],\n",
              "        [0.03921569],\n",
              "        [0.05882353],\n",
              "        [0.01960784],\n",
              "        [0.        ]],\n",
              "\n",
              "       [[0.        ],\n",
              "        [0.01176471],\n",
              "        [0.05882353],\n",
              "        [0.00784314],\n",
              "        [0.        ],\n",
              "        [0.04313725],\n",
              "        [0.03137255],\n",
              "        [0.        ]],\n",
              "\n",
              "       [[0.        ],\n",
              "        [0.01568627],\n",
              "        [0.04705882],\n",
              "        [0.        ],\n",
              "        [0.        ],\n",
              "        [0.03137255],\n",
              "        [0.03137255],\n",
              "        [0.        ]],\n",
              "\n",
              "       [[0.        ],\n",
              "        [0.01960784],\n",
              "        [0.03137255],\n",
              "        [0.        ],\n",
              "        [0.        ],\n",
              "        [0.03529412],\n",
              "        [0.03137255],\n",
              "        [0.        ]],\n",
              "\n",
              "       [[0.        ],\n",
              "        [0.01568627],\n",
              "        [0.04313725],\n",
              "        [0.        ],\n",
              "        [0.00392157],\n",
              "        [0.04705882],\n",
              "        [0.02745098],\n",
              "        [0.        ]],\n",
              "\n",
              "       [[0.        ],\n",
              "        [0.00784314],\n",
              "        [0.05490196],\n",
              "        [0.01960784],\n",
              "        [0.03921569],\n",
              "        [0.04705882],\n",
              "        [0.        ],\n",
              "        [0.        ]],\n",
              "\n",
              "       [[0.        ],\n",
              "        [0.        ],\n",
              "        [0.02352941],\n",
              "        [0.05098039],\n",
              "        [0.03921569],\n",
              "        [0.        ],\n",
              "        [0.        ],\n",
              "        [0.        ]]])"
            ]
          },
          "metadata": {
            "tags": []
          },
          "execution_count": 13
        }
      ]
    },
    {
      "metadata": {
        "id": "xs_LaexGzWtP",
        "colab_type": "code",
        "colab": {
          "base_uri": "https://localhost:8080/",
          "height": 35
        },
        "outputId": "19e4eba3-7823-4c77-b2e6-22ce21da881a"
      },
      "cell_type": "code",
      "source": [
        "y=y.reshape(y.shape[0],1)\n",
        "print(y.shape)"
      ],
      "execution_count": 14,
      "outputs": [
        {
          "output_type": "stream",
          "text": [
            "(1797, 1)\n"
          ],
          "name": "stdout"
        }
      ]
    },
    {
      "metadata": {
        "id": "-aC58vvJzblp",
        "colab_type": "code",
        "colab": {}
      },
      "cell_type": "code",
      "source": [
        "y_encoded=np.zeros((y.shape[0],10))\n",
        "for i in range(y_encoded.shape[0]):\n",
        "    y_encoded[i][y[i][0]]=1\n",
        "y=y_encoded.copy()"
      ],
      "execution_count": 0,
      "outputs": []
    },
    {
      "metadata": {
        "id": "mxo0N0f7zdvj",
        "colab_type": "code",
        "colab": {
          "base_uri": "https://localhost:8080/",
          "height": 35
        },
        "outputId": "b33d175a-9fce-45d9-9ea1-255f4c8dac06"
      },
      "cell_type": "code",
      "source": [
        "print(y.shape)"
      ],
      "execution_count": 16,
      "outputs": [
        {
          "output_type": "stream",
          "text": [
            "(1797, 10)\n"
          ],
          "name": "stdout"
        }
      ]
    },
    {
      "metadata": {
        "id": "a0At6gWHzgEm",
        "colab_type": "code",
        "colab": {
          "base_uri": "https://localhost:8080/",
          "height": 35
        },
        "outputId": "c574cdf0-5834-4a97-84a2-da63236f83a9"
      },
      "cell_type": "code",
      "source": [
        "y[0]"
      ],
      "execution_count": 17,
      "outputs": [
        {
          "output_type": "execute_result",
          "data": {
            "text/plain": [
              "array([1., 0., 0., 0., 0., 0., 0., 0., 0., 0.])"
            ]
          },
          "metadata": {
            "tags": []
          },
          "execution_count": 17
        }
      ]
    },
    {
      "metadata": {
        "id": "Gmlts_6bzhio",
        "colab_type": "code",
        "colab": {}
      },
      "cell_type": "code",
      "source": [
        "train_size=int(X.shape[0]*0.8)\n",
        "test_size=X.shape[0]-train_size\n",
        "train_indices=random.sample(range(0,X.shape[0]),train_size)\n",
        "test_indices=[i for i in range(0,X.shape[0]) if i not in train_indices]\n",
        "X_train=X[train_indices]\n",
        "Y_train=y[train_indices]\n",
        "X_test=X[test_indices]\n",
        "Y_test=y[test_indices]"
      ],
      "execution_count": 0,
      "outputs": []
    },
    {
      "metadata": {
        "id": "Iviz27U_zmoV",
        "colab_type": "code",
        "colab": {
          "base_uri": "https://localhost:8080/",
          "height": 121
        },
        "outputId": "dd3e7078-cd4a-4a1d-e0d4-1629da899f56"
      },
      "cell_type": "code",
      "source": [
        "print (\"number of training examples = \" + str(X_train.shape[0]))\n",
        "print (\"number of test examples = \" + str(X_test.shape[0]))\n",
        "print (\"X_train shape: \" + str(X_train.shape))\n",
        "print (\"Y_train shape: \" + str(Y_train.shape))\n",
        "print (\"X_test shape: \" + str(X_test.shape))\n",
        "print (\"Y_test shape: \" + str(Y_test.shape))"
      ],
      "execution_count": 19,
      "outputs": [
        {
          "output_type": "stream",
          "text": [
            "number of training examples = 1437\n",
            "number of test examples = 360\n",
            "X_train shape: (1437, 8, 8, 1)\n",
            "Y_train shape: (1437, 10)\n",
            "X_test shape: (360, 8, 8, 1)\n",
            "Y_test shape: (360, 10)\n"
          ],
          "name": "stdout"
        }
      ]
    },
    {
      "metadata": {
        "id": "mPFZJ3zIz0nz",
        "colab_type": "code",
        "colab": {}
      },
      "cell_type": "code",
      "source": [
        "def create_placeholders(n_H0,n_W0,n_C0,n_y):\n",
        "    X=tf.placeholder(tf.float64,[None,n_H0,n_W0,n_C0])\n",
        "    Y=tf.placeholder(tf.float64,[None,n_y])\n",
        "    return X,Y"
      ],
      "execution_count": 0,
      "outputs": []
    },
    {
      "metadata": {
        "id": "p_maojVfz6fF",
        "colab_type": "code",
        "colab": {
          "base_uri": "https://localhost:8080/",
          "height": 52
        },
        "outputId": "f30460a5-fb2a-413e-9f6c-f34a377677bc"
      },
      "cell_type": "code",
      "source": [
        "X_p,Y_p=create_placeholders(8,8,1,10)\n",
        "print(\"X= \"+ str(X_p))\n",
        "print(\"Y= \"+str(Y_p))"
      ],
      "execution_count": 21,
      "outputs": [
        {
          "output_type": "stream",
          "text": [
            "X= Tensor(\"Placeholder:0\", shape=(?, 8, 8, 1), dtype=float64)\n",
            "Y= Tensor(\"Placeholder_1:0\", shape=(?, 10), dtype=float64)\n"
          ],
          "name": "stdout"
        }
      ]
    },
    {
      "metadata": {
        "id": "_a5Rx4k6z9mC",
        "colab_type": "code",
        "colab": {}
      },
      "cell_type": "code",
      "source": [
        "def initialize_parameters():\n",
        "    tf.set_random_seed(1)\n",
        "    W1=tf.get_variable(\"W1\",[4,4,1,8],dtype=tf.float64,initializer=tf.contrib.layers.xavier_initializer(seed=0))\n",
        "    W2=tf.get_variable(\"W2\",[2,2,8,16],dtype=tf.float64,initializer=tf.contrib.layers.xavier_initializer(seed=0))\n",
        "    parameters={\"W1\":W1,\"W2\":W2}\n",
        "    return parameters"
      ],
      "execution_count": 0,
      "outputs": []
    },
    {
      "metadata": {
        "id": "xPuIcmGk0TT7",
        "colab_type": "code",
        "colab": {
          "base_uri": "https://localhost:8080/",
          "height": 297
        },
        "outputId": "8198f486-d4f5-4e6c-fb58-8a0cf5388d53"
      },
      "cell_type": "code",
      "source": [
        "tf.reset_default_graph()\n",
        "with tf.Session() as sess_test:\n",
        "    parameters = initialize_parameters()\n",
        "    init = tf.global_variables_initializer()\n",
        "    sess_test.run(init)\n",
        "    print(\"W1 = \" + str(parameters[\"W1\"].eval()[1,1]))\n",
        "    print(\"W2 = \" + str(parameters[\"W2\"].eval()[1,1,1]))"
      ],
      "execution_count": 23,
      "outputs": [
        {
          "output_type": "stream",
          "text": [
            "\n",
            "WARNING: The TensorFlow contrib module will not be included in TensorFlow 2.0.\n",
            "For more information, please see:\n",
            "  * https://github.com/tensorflow/community/blob/master/rfcs/20180907-contrib-sunset.md\n",
            "  * https://github.com/tensorflow/addons\n",
            "If you depend on functionality not listed there, please file an issue.\n",
            "\n",
            "WARNING:tensorflow:From /usr/local/lib/python3.6/dist-packages/tensorflow/python/framework/op_def_library.py:263: colocate_with (from tensorflow.python.framework.ops) is deprecated and will be removed in a future version.\n",
            "Instructions for updating:\n",
            "Colocations handled automatically by placer.\n",
            "W1 = [[-0.20177494  0.15629152 -0.04183559 -0.18772084 -0.03537321 -0.018062\n",
            "   0.09998971  0.07257708]]\n",
            "W2 = [-0.16205241  0.04356554  0.07628003  0.07753464  0.06825155 -0.24405832\n",
            "  0.24469767 -0.19720941  0.07481825  0.19748661 -0.08642435 -0.10050062\n",
            "  0.11679814  0.24573865  0.00760622  0.24272562]\n"
          ],
          "name": "stdout"
        }
      ]
    },
    {
      "metadata": {
        "id": "IoxCvE5s0VtI",
        "colab_type": "code",
        "colab": {}
      },
      "cell_type": "code",
      "source": [
        "def forward_propagation(X, parameters):\n",
        "    W1 = parameters['W1']\n",
        "    W2 = parameters['W2']\n",
        "    Z1 = tf.nn.conv2d(X,W1,strides = [1,1,1,1], padding = 'SAME')\n",
        "    A1 = tf.nn.relu(Z1)\n",
        "    P1 = tf.nn.max_pool(A1, ksize = [1,8,8,1], strides = [1,8,8,1], padding = 'SAME')\n",
        "    Z2 = tf.nn.conv2d(P1,W2,strides = [1,1,1,1], padding = 'SAME')\n",
        "    A2 = tf.nn.relu(Z2)\n",
        "    P2 = tf.nn.max_pool(A2, ksize = [1,4,4,1], strides = [1,4,4,1], padding = 'SAME')\n",
        "    P2 = tf.contrib.layers.flatten(P2)\n",
        "    Z3 = tf.contrib.layers.fully_connected(P2,10,activation_fn=None)\n",
        "    return Z3"
      ],
      "execution_count": 0,
      "outputs": []
    },
    {
      "metadata": {
        "id": "12UbAI6r0eAO",
        "colab_type": "code",
        "colab": {
          "base_uri": "https://localhost:8080/",
          "height": 315
        },
        "outputId": "e57f5a75-55a4-40eb-c554-f3b9614d63a4"
      },
      "cell_type": "code",
      "source": [
        "tf.reset_default_graph()\n",
        "with tf.Session() as sess:\n",
        "    np.random.seed(1)\n",
        "    X_p,Y_p=create_placeholders(8,8,1,10)\n",
        "    parameters = initialize_parameters()\n",
        "    Z3 = forward_propagation(X_p, parameters)\n",
        "    init = tf.global_variables_initializer()\n",
        "    sess.run(init)\n",
        "    a = sess.run(Z3, {X_p: X_train, Y_p: Y_train})\n",
        "    print(\"Z3 = \" + str(a))"
      ],
      "execution_count": 25,
      "outputs": [
        {
          "output_type": "stream",
          "text": [
            "WARNING:tensorflow:From /usr/local/lib/python3.6/dist-packages/tensorflow/contrib/layers/python/layers/layers.py:1624: flatten (from tensorflow.python.layers.core) is deprecated and will be removed in a future version.\n",
            "Instructions for updating:\n",
            "Use keras.layers.flatten instead.\n",
            "Z3 = [[-0.00311673 -0.00127475  0.00774744 ... -0.00184896 -0.00518212\n",
            "   0.0002022 ]\n",
            " [-0.00396415  0.00127667  0.0093909  ... -0.00289099 -0.00692639\n",
            "  -0.00104913]\n",
            " [-0.00420808  0.00152724  0.01076919 ... -0.00305362 -0.0073539\n",
            "  -0.00201565]\n",
            " ...\n",
            " [-0.00279402 -0.00058951  0.0108746  ... -0.00126516 -0.00583444\n",
            "  -0.00109296]\n",
            " [-0.00441616  0.00243     0.01257797 ... -0.00312168 -0.00806128\n",
            "  -0.00304023]\n",
            " [-0.00472631  0.00274824  0.01071036 ... -0.00363661 -0.00793803\n",
            "  -0.00233711]]\n"
          ],
          "name": "stdout"
        }
      ]
    },
    {
      "metadata": {
        "id": "pis7w0YK0giF",
        "colab_type": "code",
        "colab": {}
      },
      "cell_type": "code",
      "source": [
        "def compute_cost(Z3,Y):\n",
        "  cost=tf.reduce_mean(tf.nn.softmax_cross_entropy_with_logits(logits=Z3,labels=Y))\n",
        "  return cost"
      ],
      "execution_count": 0,
      "outputs": []
    },
    {
      "metadata": {
        "id": "bW8cNE5r9xeK",
        "colab_type": "code",
        "colab": {
          "base_uri": "https://localhost:8080/",
          "height": 35
        },
        "outputId": "854985c0-a35c-42e9-d7a6-b3f0d43e3c2e"
      },
      "cell_type": "code",
      "source": [
        "tf.reset_default_graph()\n",
        "with tf.Session() as sess:\n",
        "    np.random.seed(1)\n",
        "    X_p,Y_p=create_placeholders(8,8,1,10)\n",
        "    parameters = initialize_parameters()\n",
        "    Z3 = forward_propagation(X_p, parameters)\n",
        "    cost = compute_cost(Z3, Y_train)\n",
        "    init = tf.global_variables_initializer()\n",
        "    sess.run(init)\n",
        "    a = sess.run(cost, {X_p: X_train, Y_p: Y_train})\n",
        "    print(\"cost = \" + str(a))"
      ],
      "execution_count": 28,
      "outputs": [
        {
          "output_type": "stream",
          "text": [
            "cost = 2.3024221392654862\n"
          ],
          "name": "stdout"
        }
      ]
    },
    {
      "metadata": {
        "id": "YsgNabI6BJzs",
        "colab_type": "code",
        "colab": {}
      },
      "cell_type": "code",
      "source": [
        "def random_mini_batches(X, Y, mini_batch_size = 64, seed = 0):\n",
        "    np.random.seed(seed)            \n",
        "    m = X.shape[0]                  \n",
        "    mini_batches = []\n",
        "    # Step 1: Shuffle (X, Y)\n",
        "    permutation = list(np.random.permutation(m))\n",
        "    shuffled_X = X[permutation]\n",
        "    shuffled_Y = Y[permutation]\n",
        "    # Step 2: Partition (shuffled_X, shuffled_Y). Minus the end case.\n",
        "    num_complete_minibatches = math.floor(m/mini_batch_size) # number of mini batches of size mini_batch_size in your partitionning\n",
        "    for k in range(0, num_complete_minibatches):\n",
        "        mini_batch_X = shuffled_X[k*mini_batch_size:(k+1)*mini_batch_size]\n",
        "        mini_batch_Y = shuffled_Y[k*mini_batch_size:(k+1)*mini_batch_size]\n",
        "        mini_batch = (mini_batch_X, mini_batch_Y)\n",
        "        mini_batches.append(mini_batch)\n",
        "    \n",
        "    # Handling the end case (last mini-batch < mini_batch_size)\n",
        "    if m % mini_batch_size != 0:\n",
        "        mini_batch_X = shuffled_X[(mini_batch_size*math.floor(m/mini_batch_size)):]\n",
        "        mini_batch_Y = shuffled_Y[(mini_batch_size*math.floor(m/mini_batch_size)):]\n",
        "        mini_batch = (mini_batch_X, mini_batch_Y)\n",
        "        mini_batches.append(mini_batch)\n",
        "    \n",
        "    return mini_batches"
      ],
      "execution_count": 0,
      "outputs": []
    },
    {
      "metadata": {
        "id": "9l6Xyu8DLq1F",
        "colab_type": "code",
        "colab": {}
      },
      "cell_type": "code",
      "source": [
        "minibatches=random_mini_batches(X_train,Y_train,64,2)"
      ],
      "execution_count": 0,
      "outputs": []
    },
    {
      "metadata": {
        "id": "n3W2dVtBLz-V",
        "colab_type": "code",
        "colab": {
          "base_uri": "https://localhost:8080/",
          "height": 52
        },
        "outputId": "62d03cc0-d639-4e90-9107-de14aa415b88"
      },
      "cell_type": "code",
      "source": [
        "minibatch=minibatches[0]\n",
        "(minibatch_X,minibatch_Y)=minibatch\n",
        "print(minibatch_X.shape)\n",
        "print(minibatch_Y.shape)"
      ],
      "execution_count": 35,
      "outputs": [
        {
          "output_type": "stream",
          "text": [
            "(64, 8, 8, 1)\n",
            "(64, 10)\n"
          ],
          "name": "stdout"
        }
      ]
    },
    {
      "metadata": {
        "id": "6N5rHDcm-BVF",
        "colab_type": "code",
        "colab": {}
      },
      "cell_type": "code",
      "source": [
        "def model(X_train,Y_train,X_test,Y_test,learning_rate=0.009,num_epochs=100,minibatch_size=64,print_cost=True):\n",
        "  ops.reset_default_graph()\n",
        "  tf.set_random_seed(1)\n",
        "  seed=3\n",
        "  #useful variables\n",
        "  (m,n_H0,n_W0,n_C0)=X_train.shape\n",
        "  n_y=Y_train.shape[1]\n",
        "  costs=[]\n",
        "  \n",
        "  #create placeholders\n",
        "  X,Y=create_placeholders(n_H0,n_W0,n_C0,n_y)\n",
        "  \n",
        "  #initialize parameters\n",
        "  \n",
        "  parameters=initialize_parameters()\n",
        "  \n",
        "  #forward propagation\n",
        "  \n",
        "  Z3= forward_propagation(X, parameters)\n",
        "  \n",
        "  # compute cost\n",
        "  cost=compute_cost(Z3,Y)\n",
        "  \n",
        "  #Back proapagation\n",
        "  optimizer = tf.train.AdamOptimizer(learning_rate).minimize(cost)\n",
        "  \n",
        "  init=tf.global_variables_initializer()\n",
        "  \n",
        "  with tf.Session() as sess:\n",
        "    sess.run(init)\n",
        "    for epoch in range(num_epochs):\n",
        "      minibatch_cost=0\n",
        "      num_minibatches=int(m/minibatch_size)\n",
        "      seed=seed+1\n",
        "      minibatches=random_mini_batches(X_train,Y_train,minibatch_size,seed)\n",
        "      for minibatch in minibatches:\n",
        "        (minibatch_X,minibatch_Y)=minibatch\n",
        "        _,temp_cost=sess.run([optimizer,cost],feed_dict={X:minibatch_X,Y:minibatch_Y})\n",
        "        minibatch_cost+=(temp_cost/num_minibatches)\n",
        "      if print_cost==True and epoch%5==0:\n",
        "        print (\"Cost after epoch %i: %f\" % (epoch, minibatch_cost))\n",
        "      if print_cost==True and epoch%1==0:\n",
        "        costs.append(minibatch_cost)\n",
        "        \n",
        "    #plot the cost\n",
        "    plt.plot(np.squeeze(costs))\n",
        "    plt.ylabel('cost')\n",
        "    plt.xlabel('iterations (per tens)')\n",
        "    plt.title(\"Learning rate =\" + str(learning_rate))\n",
        "    plt.show()\n",
        "    \n",
        "    # Calculate the correct predictions\n",
        "    predict_op = tf.argmax(Z3, 1)\n",
        "    correct_prediction = tf.equal(predict_op, tf.argmax(Y, 1))\n",
        "\n",
        "    # Calculate accuracy on the test set\n",
        "    accuracy = tf.reduce_mean(tf.cast(correct_prediction, \"float\"))\n",
        "    print(accuracy)\n",
        "    train_accuracy = accuracy.eval({X: X_train, Y: Y_train})\n",
        "    test_accuracy = accuracy.eval({X: X_test, Y: Y_test})\n",
        "    print(\"Train Accuracy:\", train_accuracy)\n",
        "    print(\"Test Accuracy:\", test_accuracy)\n",
        "    \n",
        "    \n",
        "    \n",
        "    return train_accuracy,test_accuracy,parameters"
      ],
      "execution_count": 0,
      "outputs": []
    },
    {
      "metadata": {
        "id": "GkJyoJOh-0yY",
        "colab_type": "code",
        "colab": {
          "base_uri": "https://localhost:8080/",
          "height": 693
        },
        "outputId": "91d9391f-91b0-40b8-c7f8-c5993f304dc4"
      },
      "cell_type": "code",
      "source": [
        "_, _, parameters = model(X_train, Y_train, X_test, Y_test)"
      ],
      "execution_count": 39,
      "outputs": [
        {
          "output_type": "stream",
          "text": [
            "Cost after epoch 0: 2.406268\n",
            "Cost after epoch 5: 1.848501\n",
            "Cost after epoch 10: 1.131666\n",
            "Cost after epoch 15: 0.875365\n",
            "Cost after epoch 20: 0.747782\n",
            "Cost after epoch 25: 0.687795\n",
            "Cost after epoch 30: 0.623073\n",
            "Cost after epoch 35: 0.587566\n",
            "Cost after epoch 40: 0.556975\n",
            "Cost after epoch 45: 0.521740\n",
            "Cost after epoch 50: 0.495890\n",
            "Cost after epoch 55: 0.464279\n",
            "Cost after epoch 60: 0.449134\n",
            "Cost after epoch 65: 0.421361\n",
            "Cost after epoch 70: 0.408676\n",
            "Cost after epoch 75: 0.392708\n",
            "Cost after epoch 80: 0.377675\n",
            "Cost after epoch 85: 0.375454\n",
            "Cost after epoch 90: 0.354901\n",
            "Cost after epoch 95: 0.343282\n"
          ],
          "name": "stdout"
        },
        {
          "output_type": "display_data",
          "data": {
            "image/png": "[encoded data removed]",
            "text/plain": [
              "<Figure size 432x288 with 1 Axes>"
            ]
          },
          "metadata": {
            "tags": []
          }
        },
        {
          "output_type": "stream",
          "text": [
            "Tensor(\"Mean_1:0\", shape=(), dtype=float32)\n",
            "Train Accuracy: 0.8914405\n",
            "Test Accuracy: 0.825\n"
          ],
          "name": "stdout"
        }
      ]
    },
    {
      "metadata": {
        "id": "tfGBn5i4EM9g",
        "colab_type": "code",
        "colab": {}
      },
      "cell_type": "code",
      "source": [
        ""
      ],
      "execution_count": 0,
      "outputs": []
    }
  ]
}